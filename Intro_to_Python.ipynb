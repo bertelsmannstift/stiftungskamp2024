{
 "cells": [
  {
   "cell_type": "markdown",
   "metadata": {},
   "source": [
    "# By the Power of Thor: Spielerischer Einstieg in Python\n",
    "\n",
    "**Willkommen zu unserem Python-Workshop!** \n",
    "\n",
    "Python ist eine ***Computerprogrammiersprache*** - ein Satz von Vokabeln und Regeln, mit denen man einen Computer anweisen kann, bestimmte Aufgaben auszuführen. Sie wurde von ihrem Schöpfer - Guido van Rossum - nach dem \"Monty Python's Flying Circus\" benannt. Seit ihrer Entstehung im Jahr 1991 hat sie sich zu einer der am häufigsten verwendeten Programmiersprachen entwickelt:\n",
    "\n",
    "\n",
    "[<img src=\"Bilder/bild1.jpeg\" width=\"400\"/>](Bilder/bild1.jpeg)\n",
    "\n",
    "*Quelle: Statista, 2019*\n",
    "\n",
    "\n",
    "Guido wollte eine Sprache entwickeln, die leicht zu erlernen und zu erweitern war. Dies ist auch im **\"Zen von Python\"** verankert, der von Guido geschriebenen Python-Stil-Guide."
   ]
  },
  {
   "cell_type": "code",
   "execution_count": 1,
   "metadata": {},
   "outputs": [
    {
     "name": "stdout",
     "output_type": "stream",
     "text": [
      "The Zen of Python, by Tim Peters\n",
      "\n",
      "Beautiful is better than ugly.\n",
      "Explicit is better than implicit.\n",
      "Simple is better than complex.\n",
      "Complex is better than complicated.\n",
      "Flat is better than nested.\n",
      "Sparse is better than dense.\n",
      "Readability counts.\n",
      "Special cases aren't special enough to break the rules.\n",
      "Although practicality beats purity.\n",
      "Errors should never pass silently.\n",
      "Unless explicitly silenced.\n",
      "In the face of ambiguity, refuse the temptation to guess.\n",
      "There should be one-- and preferably only one --obvious way to do it.\n",
      "Although that way may not be obvious at first unless you're Dutch.\n",
      "Now is better than never.\n",
      "Although never is often better than *right* now.\n",
      "If the implementation is hard to explain, it's a bad idea.\n",
      "If the implementation is easy to explain, it may be a good idea.\n",
      "Namespaces are one honking great idea -- let's do more of those!\n"
     ]
    }
   ],
   "source": [
    "import this"
   ]
  },
  {
   "cell_type": "markdown",
   "metadata": {},
   "source": [
    "Python ist eine vielseitige Programmiersprache, die aufgrund ihrer Einfachheit und ihrer leistungsstarken Bibliotheken in vielen Bereichen eingesetzt wird. Hier sind einige wichtige Anwendungen von Python:\n",
    "\n",
    "1. **Web-Entwicklung**: Python-Frameworks wie Django und Flask sind beliebt, um Webanwendungen schnell und mit wenig Code zu erstellen.\n",
    "2. **Data Science und maschinelles Lernen**: Python ist eine führende Sprache für Datenanalyse, Visualisierung und komplexe maschinelle Lernalgorithmen. Bibliotheken wie NumPy, pandas, scikit-learn und TensorFlow machen Python zu einem Favoriten unter Datenwissenschaftlern.\n",
    "3. **Automatisierung**: Python vereinfacht die Automatisierung sich wiederholender Aufgaben bei Softwaretests, Datenmanagement und Systemadministration.\n",
    "4. **Software-Entwicklung**: Die Lesbarkeit und das robuste Ökosystem von Python machen es ideal für die Entwicklung einfacher Skripte und komplexer Unternehmenssoftwareanwendungen.\n",
    "5. **Bildungsprogramme**: Die einfache Syntax und die gute Lesbarkeit machen Python zu einem ausgezeichneten Tool für das Erlernen einer Programmiersprache insbesondere in Hochschulen und Einführungskursen"
   ]
  },
  {
   "cell_type": "markdown",
   "metadata": {},
   "source": [
    "**In diesem Workshop werden wir die grundlegenden Konzepte der Sprache demonstrieren, die euch helfen können, in eure eigenen Projekte einzusteigen.**\n",
    "\n",
    "Viele der Beispiele beruhen auf dem Buch von Al Sweigart (2017): Invent your own computer games with Python."
   ]
  },
  {
   "cell_type": "code",
   "execution_count": 2,
   "metadata": {},
   "outputs": [
    {
     "name": "stdout",
     "output_type": "stream",
     "text": [
      "Hallo und Willkommen zu unserem Python-Workshop!\n"
     ]
    }
   ],
   "source": [
    "# Dies ist ein Kommentar in Python. \n",
    "# Kommentare beginnen mit einem Hashtag und werden vom Python-Interpreter ignoriert.\n",
    "\n",
    "# Die print-Funktion wird verwendet, um Text oder Zahlen auf der Konsole auszugeben.\n",
    "print(\"Hallo und Willkommen zu unserem Python-Workshop!\")"
   ]
  },
  {
   "cell_type": "markdown",
   "metadata": {},
   "source": [
    "## Wertzuweisung und Grundlegende Datentypen\n",
    "\n",
    "Werte werden in Variablen mit einem Gleichheitszeichen (=) gespeichert. Dadurch können wir verschiedene Operationen mit den Werten durchführen."
   ]
  },
  {
   "cell_type": "code",
   "execution_count": 3,
   "metadata": {},
   "outputs": [
    {
     "name": "stdout",
     "output_type": "stream",
     "text": [
      "7\n"
     ]
    }
   ],
   "source": [
    "zahl = 5\n",
    "zahl1 = 2\n",
    "\n",
    "print(zahl + zahl1)"
   ]
  },
  {
   "cell_type": "markdown",
   "metadata": {},
   "source": [
    "Neben Zahlen ist auch Text ein häufig verwendeter Datentyp. In Python werden die Textbausteine als \"Strings\" bezeichnet. Strings können genau wie Zahlen verwendet werden: Sie können gespeichert und gedruckt werden."
   ]
  },
  {
   "cell_type": "code",
   "execution_count": 4,
   "metadata": {},
   "outputs": [
    {
     "name": "stdout",
     "output_type": "stream",
     "text": [
      "Hallo Welt!\n",
      "Typ: <class 'str'>\n"
     ]
    }
   ],
   "source": [
    "gruß = \"Hallo Welt!\"\n",
    "\n",
    "print(gruß)\n",
    "print(\"Typ:\", type(gruß))"
   ]
  },
  {
   "cell_type": "markdown",
   "metadata": {},
   "source": [
    "Wir können Strings mit dem „+“-Operator in einer Aktion namens String-Verkettung (*string concatination*) kombinieren."
   ]
  },
  {
   "cell_type": "code",
   "execution_count": 5,
   "metadata": {},
   "outputs": [
    {
     "name": "stdout",
     "output_type": "stream",
     "text": [
      "Hallo Welt! Ich lerne Python!\n"
     ]
    }
   ],
   "source": [
    "verkettung = \"Hallo Welt!\" + \" \" + \"Ich lerne Python!\"\n",
    "print(verkettung)"
   ]
  },
  {
   "cell_type": "markdown",
   "metadata": {},
   "source": [
    "Es gibt andere Datentypen in Python. Einer davon sind Warheitswerte (Boolesche Werte). Boolesche Werte haben nur zwei Werte: „True“ oder „False“."
   ]
  },
  {
   "cell_type": "code",
   "execution_count": 6,
   "metadata": {},
   "outputs": [
    {
     "name": "stdout",
     "output_type": "stream",
     "text": [
      "False\n",
      "True\n",
      "<class 'bool'>\n"
     ]
    }
   ],
   "source": [
    "print(10 > 12)\n",
    "print(10 < 12)\n",
    "print(type(10 < 12))"
   ]
  },
  {
   "cell_type": "markdown",
   "metadata": {},
   "source": [
    "## Weitere Datentypen und Indexing"
   ]
  },
  {
   "cell_type": "markdown",
   "metadata": {},
   "source": [
    "Liste ist ein Datentyp, der mehrere andere Werte enthält. Listen beginnen mit einer linken eckigen Klammer ([) und enden mit einer rechten eckigen Klammer (]). Kommas trennen die Werte - Elemente (*items*) - innerhalb der Liste."
   ]
  },
  {
   "cell_type": "code",
   "execution_count": 7,
   "metadata": {},
   "outputs": [
    {
     "name": "stdout",
     "output_type": "stream",
     "text": [
      "[1, 2, 3]\n",
      "['Thor', 'Odin', 'Freyr']\n"
     ]
    }
   ],
   "source": [
    "nummern_liste = [1, 2, 3]\n",
    "text_liste = [\"Thor\", \"Odin\", \"Freyr\"]\n",
    "\n",
    "print(nummern_liste)\n",
    "print(text_liste)"
   ]
  },
  {
   "cell_type": "markdown",
   "metadata": {},
   "source": [
    "Auf Elemente in einer Liste kann durch Indizierung (*indexing*) zugegriffen werden. Python-Listen sind \"null-indiziert\" (*zero-indexed*), was bedeutet, dass die Indizes bei 0 beginnen."
   ]
  },
  {
   "cell_type": "code",
   "execution_count": 8,
   "metadata": {},
   "outputs": [
    {
     "name": "stdout",
     "output_type": "stream",
     "text": [
      "1\n",
      "Odin\n"
     ]
    }
   ],
   "source": [
    "print(nummern_liste[0])\n",
    "print(text_liste[1])"
   ]
  },
  {
   "cell_type": "markdown",
   "metadata": {},
   "source": [
    "Die Elemente in der Liste behalten ihren Datentyp, wenn sie einzeln indiziert werden."
   ]
  },
  {
   "cell_type": "code",
   "execution_count": 9,
   "metadata": {},
   "outputs": [
    {
     "name": "stdout",
     "output_type": "stream",
     "text": [
      "<class 'list'>\n",
      "<class 'str'>\n"
     ]
    }
   ],
   "source": [
    "print(type(text_liste))\n",
    "print(type(text_liste[1]))"
   ]
  },
  {
   "cell_type": "markdown",
   "metadata": {},
   "source": [
    "Wir können eine \"Liste der Listen\" erstellen. "
   ]
  },
  {
   "cell_type": "code",
   "execution_count": 10,
   "metadata": {},
   "outputs": [
    {
     "name": "stdout",
     "output_type": "stream",
     "text": [
      "[[2, 5, 3], [0, 1, 5], [1, 1, 7]]\n"
     ]
    }
   ],
   "source": [
    "liste_der_listen = [[2, 5, 3], [0, 1, 5], [1, 1, 7]]\n",
    "\n",
    "print(liste_der_listen)"
   ]
  },
  {
   "cell_type": "markdown",
   "metadata": {},
   "source": [
    "Achtung: Jetzt brauchen wir zwei Indizes, um zu einer einzigen Zahl in einer Liste zu gelangen. Der erste Index ruft eine Liste auf, der zweite das Element innerhalb einer Liste."
   ]
  },
  {
   "cell_type": "code",
   "execution_count": 11,
   "metadata": {},
   "outputs": [
    {
     "name": "stdout",
     "output_type": "stream",
     "text": [
      "Eine Liste: [0, 1, 5]\n",
      "Ein Zahl: 0\n"
     ]
    }
   ],
   "source": [
    "print(\"Eine Liste:\", liste_der_listen[1])\n",
    "print(\"Ein Zahl:\", liste_der_listen[1][0])"
   ]
  },
  {
   "cell_type": "markdown",
   "metadata": {},
   "source": [
    "Mit dem Operator \"+\" können wir mehrere Listen zu einer einzigen zusammenfassen. "
   ]
  },
  {
   "cell_type": "code",
   "execution_count": 12,
   "metadata": {},
   "outputs": [
    {
     "name": "stdout",
     "output_type": "stream",
     "text": [
      "[1, 2, 3, 'Thor', 'Odin', 'Freyr']\n"
     ]
    }
   ],
   "source": [
    "print(nummern_liste + text_liste)"
   ]
  },
  {
   "cell_type": "markdown",
   "metadata": {},
   "source": [
    "Achtung: Um jedoch einzelne Elemente zur Liste hinzuzufügen, müssen wir die Methode append() verwenden."
   ]
  },
  {
   "cell_type": "code",
   "execution_count": 13,
   "metadata": {},
   "outputs": [
    {
     "name": "stdout",
     "output_type": "stream",
     "text": [
      "['Thor', 'Odin', 'Freyr', 'Heimdall']\n"
     ]
    }
   ],
   "source": [
    "text_liste.append(\"Heimdall\")\n",
    "print(text_liste)"
   ]
  },
  {
   "cell_type": "markdown",
   "metadata": {},
   "source": [
    "## Kontrollstrukturen\n",
    "\n",
    "Aktionen in Python können durch Kontrollstrukturen wie if- und while-Anweisungen automatisiert werden:\n",
    "\n",
    "- **if-Anweisungen:** Diese ermöglichen es uns, bestimmte Abschnitte des Codes nur dann auszuführen, wenn spezifische Bedingungen erfüllt sind. Zum Beispiel kann eine if-Anweisung überprüfen, ob eine Zahl positiv ist, und nur dann weitere Aktionen mit dieser Zahl durchführen.\n",
    "\n",
    "- **while-Anweisungen:** Diese werden verwendet, um einen Block von Code wiederholt auszuführen, solange eine Bedingung wahr bleibt. Beispielsweise könnte eine while-Schleife so lange nach Benutzereingaben fragen, bis eine gültige Eingabe erfolgt.\n",
    "\n",
    "- **for-Anweisungen:** Diese werden benutzt, um einen Code für jedes Element einer Liste oder eines vergleichbaren Datentyps auszuführen"
   ]
  },
  {
   "cell_type": "code",
   "execution_count": 14,
   "metadata": {},
   "outputs": [
    {
     "name": "stdout",
     "output_type": "stream",
     "text": [
      "Die Zahl ist größer als 5.\n"
     ]
    }
   ],
   "source": [
    "# Beispiel für if-Anweisungen\n",
    "zahl = 10\n",
    "\n",
    "if zahl > 5:\n",
    "    print(\"Die Zahl ist größer als 5.\")\n",
    "elif zahl < 5:\n",
    "    print(\"Die Zahl ist kleiner als 5.\")\n",
    "else:\n",
    "    print(\"Die Zahl ist 5.\")"
   ]
  },
  {
   "cell_type": "code",
   "execution_count": 15,
   "metadata": {},
   "outputs": [
    {
     "name": "stdout",
     "output_type": "stream",
     "text": [
      "Counter ist noch immer weniger als 5: 0\n",
      "Counter ist noch immer weniger als 5: 1\n",
      "Counter ist noch immer weniger als 5: 2\n",
      "Counter ist noch immer weniger als 5: 3\n",
      "Counter ist noch immer weniger als 5: 4\n"
     ]
    }
   ],
   "source": [
    "# Beispiel für eine while-Schleife\n",
    "counter = 0\n",
    "\n",
    "while counter < 5:\n",
    "    print(\"Counter ist noch immer weniger als 5:\", counter)\n",
    "    counter += 1  # Erhöht den Counter um 1"
   ]
  },
  {
   "cell_type": "code",
   "execution_count": 16,
   "metadata": {},
   "outputs": [
    {
     "name": "stdout",
     "output_type": "stream",
     "text": [
      "Thor wünscht euch einen schönen Tag!\n",
      "Odin wünscht euch einen schönen Tag!\n",
      "Freyr wünscht euch einen schönen Tag!\n"
     ]
    }
   ],
   "source": [
    "liste = [\"Thor\", \"Odin\", \"Freyr\"]\n",
    "for name in liste:\n",
    "    print(name + \" wünscht euch einen schönen Tag!\")"
   ]
  },
  {
   "cell_type": "markdown",
   "metadata": {},
   "source": [
    "## Dictionaries\n",
    "\n",
    "Dictionaries (Wörterbücher) in Python sind eine effiziente Möglichkeit, Schlüssel-Wert-Paare zu speichern und abzurufen. Ein Dictionary hat, wie eine Liste, ebenfalls eine Sammlung von Werten. Allerdings liegen diese Werte jetzt in Paaren von Schlüssel und Wert vor. Ein Paar wird durch einen Doppelpunkt (:) getrennt und ein Wörterbuch wird in geschweifte Klammern ({}) eingeschlossen."
   ]
  },
  {
   "cell_type": "code",
   "execution_count": 17,
   "metadata": {},
   "outputs": [
    {
     "name": "stdout",
     "output_type": "stream",
     "text": [
      "<class 'dict'>\n"
     ]
    }
   ],
   "source": [
    "# Ein Wörterbuch, das nordische Götter mit ihren charakteristischen Werkzeugen verbindet\n",
    "\n",
    "gott_werkzeuge = {\n",
    "    \"Thor\": \"Mjölnir\",  # Thors Hammer\n",
    "    \"Odin\": \"Gungnir\",  # Odins Speer\n",
    "    \"Freyr\": \"Schiff Skidbladnir\",  # Freyrs magisches Schiff\n",
    "    \"Heimdall\": \"Gjallarhorn\"  # Heimdalls Horn\n",
    "}\n",
    "\n",
    "print(type(gott_werkzeuge))"
   ]
  },
  {
   "cell_type": "markdown",
   "metadata": {},
   "source": [
    "Auf die Werte im Wörterbuch kann mit Hilfe des Schlüssels zugegriffen werden. "
   ]
  },
  {
   "cell_type": "code",
   "execution_count": 18,
   "metadata": {},
   "outputs": [
    {
     "name": "stdout",
     "output_type": "stream",
     "text": [
      "Thor besitzt das Werkzeug: Mjölnir\n"
     ]
    }
   ],
   "source": [
    "# Zugriff auf Werte im Wörterbuch\n",
    "\n",
    "gott = \"Thor\"\n",
    "werkzeug = gott_werkzeuge[gott]\n",
    "\n",
    "print(gott, \"besitzt das Werkzeug:\", werkzeug)"
   ]
  },
  {
   "cell_type": "markdown",
   "metadata": {},
   "source": [
    "Wir können auch ein Wörterbuch mit komplexeren Schlüsseln haben."
   ]
  },
  {
   "cell_type": "code",
   "execution_count": 19,
   "metadata": {},
   "outputs": [
    {
     "name": "stdout",
     "output_type": "stream",
     "text": [
      "Wie ist die Stimmung heute? Traurig\n"
     ]
    }
   ],
   "source": [
    "gott_stimmung = {\n",
    "\n",
    "    (\"Thor\", \"ohne Mjölnir\"): \"Traurig\",\n",
    "    (\"Thor\", \"mit Mjölnir\"): \"Froh\"\n",
    "}\n",
    "\n",
    "key = (\"Thor\", \"ohne Mjölnir\")\n",
    "\n",
    "print(\"Wie ist die Stimmung heute?\", gott_stimmung[key])"
   ]
  },
  {
   "cell_type": "markdown",
   "metadata": {},
   "source": [
    "## Funktionen in Python\n",
    "\n",
    "Funktionen sind zentrale Bausteine in Python und erlauben Code in wiederverwendbaren und organisierten Einheiten zu strukturieren. Die Funktionen bestehen aus mehreren Teilen:\n",
    "\n",
    "[<img src=\"Bilder/bild2.png\" width=\"200\"/>](Bilder/bild2.png)\n",
    "\n",
    "\n",
    "Quelle: https://www.boardinfinity.com/blog/functions-in-python/\n"
   ]
  },
  {
   "cell_type": "markdown",
   "metadata": {},
   "source": [
    "Anstatt immer wieder den gleichen Code zu schreiben, können wir eine Funktion für eine bestimmte Aufgabe schreiben."
   ]
  },
  {
   "cell_type": "code",
   "execution_count": 20,
   "metadata": {},
   "outputs": [],
   "source": [
    "def is_it_five(zahl):\n",
    "    \n",
    "    if zahl > 5:\n",
    "        antwort = \"Die Zahl ist größer als 5.\"\n",
    "    elif zahl < 5:\n",
    "        antwort = \"Die Zahl ist kleiner als 5.\"\n",
    "    else:\n",
    "        antwort = \"Die Zahl ist 5.\"\n",
    "\n",
    "    return antwort   "
   ]
  },
  {
   "cell_type": "markdown",
   "metadata": {},
   "source": [
    "Wir müssen die Funktion zuerst ausführen, um sie zu \"aktivieren\", und dann können wir sie in weiteren Operationen verwenden."
   ]
  },
  {
   "cell_type": "code",
   "execution_count": 21,
   "metadata": {},
   "outputs": [
    {
     "name": "stdout",
     "output_type": "stream",
     "text": [
      "Die Zahl ist 5.\n"
     ]
    }
   ],
   "source": [
    "x = 5\n",
    "\n",
    "print(is_it_five(x))"
   ]
  }
 ],
 "metadata": {
  "kernelspec": {
   "display_name": "stiftungskamp-2024-kjerEnkF-py3.10",
   "language": "python",
   "name": "python3"
  },
  "language_info": {
   "codemirror_mode": {
    "name": "ipython",
    "version": 3
   },
   "file_extension": ".py",
   "mimetype": "text/x-python",
   "name": "python",
   "nbconvert_exporter": "python",
   "pygments_lexer": "ipython3",
   "version": "3.10.8"
  }
 },
 "nbformat": 4,
 "nbformat_minor": 2
}
